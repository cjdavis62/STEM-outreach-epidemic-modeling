{
 "cells": [
  {
   "cell_type": "code",
   "execution_count": 259,
   "metadata": {},
   "outputs": [],
   "source": [
    "import math\n",
    "import numpy as np\n",
    "import time\n",
    "import ipywidgets as widgets\n",
    "import pandas as pd\n",
    "import matplotlib.pyplot as plt \n",
    "import ipywidgets as widgets\n",
    "from ipywidgets import interactive\n",
    "import os\n",
    "import seaborn as sns\n",
    "import glob\n",
    "import moviepy.editor as mpy\n",
    "from IPython.display import Image, clear_output"
   ]
  },
  {
   "cell_type": "markdown",
   "metadata": {},
   "source": [
    "# Begin with example w/ a simple graph of a line, with `m` and `b` as parameters"
   ]
  },
  {
   "cell_type": "code",
   "execution_count": 287,
   "metadata": {},
   "outputs": [],
   "source": [
    "def line_model(m, b):\n",
    "    plt.figure(2)\n",
    "    x = np.linspace(-10, 10, num=1000)\n",
    "    plt.plot(x, m * x + b)\n",
    "    plt.ylim(-5, 5)\n",
    "    plt.show()"
   ]
  },
  {
   "cell_type": "code",
   "execution_count": 288,
   "metadata": {},
   "outputs": [
    {
     "data": {
      "application/vnd.jupyter.widget-view+json": {
       "model_id": "dea98a583f3945b586c7cb034d0e3d09",
       "version_major": 2,
       "version_minor": 0
      },
      "text/plain": [
       "interactive(children=(FloatSlider(value=0.0, description='m', max=2.0, min=-2.0), FloatSlider(value=0.0, descr…"
      ]
     },
     "metadata": {},
     "output_type": "display_data"
    }
   ],
   "source": [
    "interactive_plot = interactive(line_model, m=(-2.0, 2.0), b=(-3, 3, 0.5))\n",
    "output = interactive_plot.children[-1]\n",
    "interactive_plot"
   ]
  },
  {
   "cell_type": "code",
   "execution_count": 289,
   "metadata": {},
   "outputs": [],
   "source": [
    "def update_progress(progress):\n",
    "    bar_length = 20\n",
    "    if isinstance(progress, int):\n",
    "        progress = float(progress)\n",
    "    if not isinstance(progress, float):\n",
    "        progress = 0\n",
    "    if progress < 0:\n",
    "        progress = 0\n",
    "    if progress >= 1:\n",
    "        progress = 1\n",
    "\n",
    "    block = int(round(bar_length * progress))\n",
    "\n",
    "    clear_output(wait = True)\n",
    "    text = \"Creating Plots: [{0}] {1:.1f}%\".format( \"#\" * block + \"-\" * (bar_length - block), progress * 100)\n",
    "    print(text)"
   ]
  },
  {
   "cell_type": "code",
   "execution_count": 268,
   "metadata": {},
   "outputs": [],
   "source": [
    "np.random.seed(int(time.time()))"
   ]
  },
  {
   "cell_type": "code",
   "execution_count": 269,
   "metadata": {},
   "outputs": [],
   "source": [
    "class person:\n",
    "    def __init__(self, _id,  x, y, v, status, time_infected):\n",
    "        self.x = x\n",
    "        self.y = y\n",
    "        self.v = v\n",
    "        self.status = status\n",
    "        self._id = _id \n",
    "        self.time_infected = time_infected\n",
    "    \n",
    "    def healthy(self):\n",
    "        self.status = \"naive\"\n",
    "    def infect(self):\n",
    "        self.status = \"infected\"\n",
    "    def recover(self):\n",
    "        self.status = \"immune\"\n",
    "        \n",
    "    def step_x(self, dist):\n",
    "        self.x += dist\n",
    "    def step_y(self, dist):\n",
    "        self.y += dist\n",
    "        \n",
    "    def random_walk(self):\n",
    "        step_x = np.random.random() - 0.5\n",
    "        step_y = np.random.random() - 0.5\n",
    "        self.step_x(self.v * step_x)\n",
    "        self.step_y(self.v * step_y)\n",
    "    \n",
    "    def periodic_conditions(self, grid_x, grid_y):\n",
    "        if self.get_x() < 0:\n",
    "            self.step_x(grid_x)\n",
    "        if self.get_x() > grid_x:\n",
    "            self.step_x(-grid_x)\n",
    "        if self.get_y() < 0:\n",
    "            self.step_y(grid_y)\n",
    "        if self.get_y() > grid_y:\n",
    "            self.step_y(-grid_y)\n",
    "        \n",
    "    def add_time_infected(self, time):\n",
    "        self.time_infected += time\n",
    "    \n",
    "    def get_x(self):\n",
    "        return self.x\n",
    "    def get_y(self):\n",
    "        return self.y\n",
    "    def get_v(self):\n",
    "        return self.v\n",
    "    def get_status(self):\n",
    "        return self.status\n",
    "    def get_time_infected(self):\n",
    "        return self.time_infected\n",
    "    def _get_id(self):\n",
    "        return self._id    "
   ]
  },
  {
   "cell_type": "markdown",
   "metadata": {},
   "source": [
    "helper functions for populations"
   ]
  },
  {
   "cell_type": "code",
   "execution_count": 270,
   "metadata": {},
   "outputs": [],
   "source": [
    "def healthy_people(list_of_people):\n",
    "    \"\"\"returns a list of healthy people\"\"\"\n",
    "    healthy_people = []\n",
    "    for person in list_of_people:\n",
    "        if person.status == \"naive\":\n",
    "            healthy_people.append(person)\n",
    "    return healthy_people\n",
    "\n",
    "def infected_people(list_of_people):\n",
    "    \"\"\"returns a list of infected people\"\"\"\n",
    "    infected_people = []\n",
    "    for person in list_of_people:\n",
    "        if person.status == \"infected\":\n",
    "            infected_people.append(person)\n",
    "    return infected_people\n",
    "\n",
    "def immune_people(list_of_people):\n",
    "    \"\"\"returns a list of immune people\"\"\"\n",
    "    immune_people = []\n",
    "    for person in list_of_people:\n",
    "        if person.status == \"immune\":\n",
    "            immune_people.append(person)\n",
    "    return immune_people"
   ]
  },
  {
   "cell_type": "markdown",
   "metadata": {},
   "source": [
    "make people"
   ]
  },
  {
   "cell_type": "code",
   "execution_count": 271,
   "metadata": {},
   "outputs": [
    {
     "name": "stdout",
     "output_type": "stream",
     "text": [
      "12.5\n"
     ]
    }
   ],
   "source": [
    "grid_size = 50\n",
    "grid_x = grid_size\n",
    "grid_y = grid_size\n",
    "num_people = 200\n",
    "print((grid_x * grid_y) / num_people)"
   ]
  },
  {
   "cell_type": "code",
   "execution_count": 272,
   "metadata": {},
   "outputs": [],
   "source": [
    "def create_people(num_people, x_max, y_max, num_infected_start = 1):\n",
    "    list_of_people = []\n",
    "    infected_people = np.random.randint(0, num_people, num_infected_start)\n",
    "    for num in range(0, num_people):\n",
    "        x = np.random.random() * x_max\n",
    "        y = np.random.random() * y_max\n",
    "        v = abs(np.random.normal(loc=0.0, scale=2.5, size=None))\n",
    "        list_of_people.append(person(num, x, y, v, \"naive\", 0))\n",
    "    for infection in infected_people:\n",
    "        list_of_people[infection].infect()\n",
    "    return list_of_people"
   ]
  },
  {
   "cell_type": "markdown",
   "metadata": {},
   "source": [
    "move people"
   ]
  },
  {
   "cell_type": "code",
   "execution_count": 273,
   "metadata": {},
   "outputs": [],
   "source": [
    "def move_people(people, grid_x, grid_y):\n",
    "    list_of_people = people.copy()\n",
    "    for person in list_of_people:\n",
    "        person.random_walk()\n",
    "        person.periodic_conditions(grid_x, grid_y)\n",
    "    return list_of_people"
   ]
  },
  {
   "cell_type": "code",
   "execution_count": 274,
   "metadata": {},
   "outputs": [],
   "source": [
    "def append_population(healthy_population, infected_population, immune_population):\n",
    "    total_population = []\n",
    "    for person in healthy_population:\n",
    "        total_population.append(person)\n",
    "    for person in infected_population:\n",
    "        total_population.append(person)\n",
    "    for person in immune_population:\n",
    "        total_population.append(person)\n",
    "    return total_population"
   ]
  },
  {
   "cell_type": "markdown",
   "metadata": {},
   "source": [
    "infections"
   ]
  },
  {
   "cell_type": "code",
   "execution_count": 275,
   "metadata": {},
   "outputs": [],
   "source": [
    "def infect_population(people, infection_range = 3):\n",
    "    list_of_people = people.copy()\n",
    "    healthy_population = healthy_people(list_of_people)\n",
    "    infected_population = infected_people(list_of_people)\n",
    "    immune_population = immune_people(list_of_people)\n",
    "    \n",
    "    for person in healthy_population:\n",
    "        for neighbor in infected_population:\n",
    "            distance_between = calculate_distance(person.get_x(), neighbor.get_x(), person.get_y(), neighbor.get_y())\n",
    "            infected = infection_event(distance_between, infection_range)\n",
    "            if infected:\n",
    "                person.infect()\n",
    "                #print(f\"infection: {distance_between}\")\n",
    "    \n",
    "    #if len(infected_people(healthy_population)) > 0:\n",
    "        #print(f\"newly infected: {len(infected_people(healthy_population))}\")\n",
    "    \n",
    "    return append_population(healthy_population, infected_population, immune_population)\n"
   ]
  },
  {
   "cell_type": "code",
   "execution_count": 276,
   "metadata": {},
   "outputs": [],
   "source": [
    "def infected_to_immune(people, time_to_heal):\n",
    "    list_of_people = people.copy()\n",
    "    healthy_population = healthy_people(list_of_people)\n",
    "    infected_population = infected_people(list_of_people)\n",
    "    immune_population = immune_people(list_of_people)\n",
    "    \n",
    "    for person in infected_population:\n",
    "        if person.get_time_infected() >= time_to_heal:\n",
    "            person.recover()\n",
    "        else:\n",
    "            person.add_time_infected(1)\n",
    "            \n",
    "    return append_population(healthy_population, infected_population, immune_population)"
   ]
  },
  {
   "cell_type": "code",
   "execution_count": 277,
   "metadata": {},
   "outputs": [],
   "source": [
    "def infection_event(distance_between, infection_range = 3):\n",
    "    \"\"\"return 1 if infection occurs, 0 if safe\"\"\"\n",
    "    infected = 0\n",
    "    if distance_between < infection_range:\n",
    "        infected = 1\n",
    "    return infected"
   ]
  },
  {
   "cell_type": "code",
   "execution_count": 278,
   "metadata": {},
   "outputs": [],
   "source": [
    "def calculate_distance(x1, x2, y1, y2):\n",
    "    return math.sqrt((x1 - x2)**2 + (y1 - y2)**2)"
   ]
  },
  {
   "cell_type": "code",
   "execution_count": 279,
   "metadata": {},
   "outputs": [],
   "source": [
    "def collect_data(people):\n",
    "    list_of_people = people.copy()\n",
    "    healthy_population = healthy_people(list_of_people)\n",
    "    infected_population = infected_people(list_of_people)\n",
    "    immune_population = immune_people(list_of_people)\n",
    "    \n",
    "    \n",
    "    num_healthy = len(healthy_population)\n",
    "    num_infected = len(infected_population)\n",
    "    num_immune = len(immune_population)\n",
    "    \n",
    "    x_positions = [person.get_x() for person in people]\n",
    "    y_positions = [person.get_y() for person in people]\n",
    "    status = [person.get_status() for person in people]\n",
    "    return num_healthy, num_infected, num_immune, x_positions, y_positions, status"
   ]
  },
  {
   "cell_type": "code",
   "execution_count": 303,
   "metadata": {},
   "outputs": [],
   "source": [
    "def run_model(infection_range, time_to_recover):\n",
    "    global last_day\n",
    "    print(\"Generating People\")\n",
    "    try:\n",
    "        del people\n",
    "    except:\n",
    "        pass\n",
    "    # create people\n",
    "    people = create_people(num_people, grid_x, grid_y)\n",
    "    # collect initial stats\n",
    "    num_healthy, num_infected, num_immune, x_positions, y_positions, status = collect_data(people)\n",
    "    df_infections = pd.DataFrame()\n",
    "    row_infections = pd.DataFrame([pd.Series([0, num_healthy, num_infected, num_immune])])\n",
    "    df_infections = pd.concat([row_infections, df_infections], ignore_index=True)\n",
    "    \n",
    "    df_positions_today = pd.DataFrame()\n",
    "    df_positions_today[\"x_position\"] = x_positions\n",
    "    df_positions_today[\"y_position\"] = y_positions\n",
    "    df_positions_today[\"status\"] = status\n",
    "    df_positions_today[\"day\"] = 0\n",
    "    df_positions = df_positions_today.copy()\n",
    "    \n",
    "    print(\"Simulating Days\")\n",
    "    last_day = 1e4\n",
    "    day = 1\n",
    "    while (day != last_day) and (day < 365):\n",
    "        people = move_people(people, grid_x, grid_y)\n",
    "        people = infect_population(people, infection_range = np.sqrt(infection_range))\n",
    "        people = infected_to_immune(people, time_to_recover)\n",
    "        num_healthy, num_infected, num_immune, x_positions, y_positions, status = collect_data(people)\n",
    "        row_infections = pd.DataFrame([pd.Series([day, num_healthy, num_infected, num_immune])])\n",
    "        df_infections = pd.concat([row_infections, df_infections], ignore_index=True)\n",
    "        df_positions_today[\"x_position\"] = x_positions\n",
    "        df_positions_today[\"y_position\"] = y_positions\n",
    "        df_positions_today[\"status\"] = status\n",
    "        df_positions_today[\"day\"] = day\n",
    "        df_positions = df_positions.append(df_positions_today)\n",
    "        if num_healthy == 0 or num_infected == 0:\n",
    "            last_day = day\n",
    "        else: \n",
    "            day = day + 1\n",
    "    print(f\"{last_day} day(s) Simulated\")\n",
    "    df_infections = df_infections.rename({0: \"days\", 1: \"healthy\", 2: \"infected\", 3: \"immune\"}, axis='columns')\n",
    "    return df_infections, df_positions, last_day"
   ]
  },
  {
   "cell_type": "code",
   "execution_count": 304,
   "metadata": {},
   "outputs": [],
   "source": [
    "def make_plots(df_infections, df_positions, last_day):\n",
    "    os.system(\"rm -rf plots\")\n",
    "    os.mkdir(\"plots\")\n",
    "    print(\"Generating Plots\")\n",
    "    for day in range(0, min(365, last_day)):\n",
    "        sns.scatterplot(data = df_positions[df_positions[\"day\"] == day], x = \"x_position\", y = \"y_position\", hue = \"status\", hue_order = [\"naive\", \"infected\", \"immune\"])\n",
    "        frame1 = plt.gca()\n",
    "        for xlabel_i in frame1.axes.get_xticklabels():\n",
    "            xlabel_i.set_visible(False)\n",
    "            xlabel_i.set_fontsize(0.0)\n",
    "        for xlabel_i in frame1.axes.get_yticklabels():\n",
    "            xlabel_i.set_fontsize(0.0)\n",
    "            xlabel_i.set_visible(False)\n",
    "        for tick in frame1.axes.get_xticklines():\n",
    "            tick.set_visible(False)\n",
    "        for tick in frame1.axes.get_yticklines():\n",
    "            tick.set_visible(False)\n",
    "        plt.xlabel(\"\")\n",
    "        plt.ylabel(\"\")\n",
    "        num_infected = df_infections[df_infections[\"days\"] == day].infected.iloc[0]\n",
    "        plt.title(f\"Day: {day}\")\n",
    "        plt.legend(loc=1)\n",
    "        plt.savefig(f\"plots/day_{day}.png\", dpi = 100)\n",
    "        plt.savefig(f\"plots/day_{day}.pdf\")\n",
    "        plt.clf()\n",
    "        update_progress(day / min(365, last_day))\n",
    "\n",
    "        \n",
    "    gif_name = 'infections'\n",
    "    fps = 8\n",
    "    file_list = glob.glob('plots/*.png') # Get all the pngs in the current directory\n",
    "    list.sort(file_list, key=lambda x: int(x.split('_')[1].split('.png')[0])) # Sort the images by #, this may need to be tweaked for your use case\n",
    "    clip = mpy.ImageSequenceClip(file_list, fps=fps)\n",
    "    clip.write_gif('{}.gif'.format(gif_name), fps=fps)\n",
    "    \n",
    "    sns.scatterplot(data = df_infections, x = \"days\", y = \"infected\", label = \"infected\")\n",
    "    sns.scatterplot(data = df_infections, x = \"days\", y = \"healthy\", label = \"naive\")\n",
    "    sns.scatterplot(data = df_infections, x = \"days\", y = \"immune\", label = \"immune\")\n",
    "    plt.legend()\n",
    "    plt.ylabel(\"People\")\n",
    "    plt.xlabel(\"Days\")\n",
    "    plt.savefig(\"infections_over_time.png\")\n",
    "    plt.show()\n",
    "    \n",
    "    return Image(\"infections.gif\")"
   ]
  },
  {
   "cell_type": "code",
   "execution_count": 305,
   "metadata": {},
   "outputs": [],
   "source": [
    "style = {'description_width': 'initial'}"
   ]
  },
  {
   "cell_type": "code",
   "execution_count": 306,
   "metadata": {},
   "outputs": [],
   "source": [
    "def run(infection_range, time_to_recover):\n",
    "    df_infections, df_positions, last_day = run_model(infection_range, time_to_recover)\n",
    "    gif = make_plots(df_infections, df_positions, last_day)\n",
    "    return gif"
   ]
  },
  {
   "cell_type": "code",
   "execution_count": 308,
   "metadata": {},
   "outputs": [
    {
     "data": {
      "application/vnd.jupyter.widget-view+json": {
       "model_id": "c9352427534946aa87152618981063c0",
       "version_major": 2,
       "version_minor": 0
      },
      "text/plain": [
       "interactive(children=(IntSlider(value=10, description='Infectivity', max=50, min=1, style=SliderStyle(descript…"
      ]
     },
     "metadata": {},
     "output_type": "display_data"
    }
   ],
   "source": [
    "x = widgets.interact_manual(run, infection_range = widgets.IntSlider(min = 1, max = 50, step = 1, value = 10, description = \"Infectivity\", style=style), time_to_recover = widgets.IntSlider(min = 1, max = 28, step = 1, value = 14, description = \"Recovery Time\", style=style))"
   ]
  },
  {
   "cell_type": "code",
   "execution_count": 309,
   "metadata": {},
   "outputs": [],
   "source": [
    "def show_day(Day):\n",
    "    return Image(f\"plots/day_{Day}.png\")"
   ]
  },
  {
   "cell_type": "code",
   "execution_count": 312,
   "metadata": {},
   "outputs": [
    {
     "data": {
      "application/vnd.jupyter.widget-view+json": {
       "model_id": "17cc37e18baf476b99053ae9f2cdb53c",
       "version_major": 2,
       "version_minor": 0
      },
      "text/plain": [
       "interactive(children=(IntSlider(value=27, description='Day', max=55), Output()), _dom_classes=('widget-interac…"
      ]
     },
     "metadata": {},
     "output_type": "display_data"
    },
    {
     "data": {
      "text/plain": [
       "<function __main__.show_day(Day)>"
      ]
     },
     "execution_count": 312,
     "metadata": {},
     "output_type": "execute_result"
    }
   ],
   "source": [
    "widgets.interact(show_day, Day = (0,last_day - 1))"
   ]
  },
  {
   "cell_type": "code",
   "execution_count": null,
   "metadata": {},
   "outputs": [],
   "source": []
  }
 ],
 "metadata": {
  "kernelspec": {
   "display_name": "Python 3",
   "language": "python",
   "name": "python3"
  },
  "language_info": {
   "codemirror_mode": {
    "name": "ipython",
    "version": 3
   },
   "file_extension": ".py",
   "mimetype": "text/x-python",
   "name": "python",
   "nbconvert_exporter": "python",
   "pygments_lexer": "ipython3",
   "version": "3.6.9"
  }
 },
 "nbformat": 4,
 "nbformat_minor": 4
}
